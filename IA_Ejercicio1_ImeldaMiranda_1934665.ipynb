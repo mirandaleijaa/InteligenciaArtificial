{
  "nbformat": 4,
  "nbformat_minor": 0,
  "metadata": {
    "colab": {
      "provenance": [],
      "authorship_tag": "ABX9TyM+0EaPDXBnkblM6ZfYbIXf",
      "include_colab_link": true
    },
    "kernelspec": {
      "name": "python3",
      "display_name": "Python 3"
    },
    "language_info": {
      "name": "python"
    }
  },
  "cells": [
    {
      "cell_type": "markdown",
      "metadata": {
        "id": "view-in-github",
        "colab_type": "text"
      },
      "source": [
        "<a href=\"https://colab.research.google.com/github/mirandaleijaa/InteligenciaArtificial/blob/main/IA_Ejercicio1_ImeldaMiranda_1934665.ipynb\" target=\"_parent\"><img src=\"https://colab.research.google.com/assets/colab-badge.svg\" alt=\"Open In Colab\"/></a>"
      ]
    },
    {
      "cell_type": "code",
      "source": [
        "#A2: Ejercicios en Python  1\n",
        "\"\"\" Nombre: Imelda Yamilet Miranda Leija\n",
        "    Matrícula: 1934665\n",
        "    Hora: N1\"\"\"\n",
        "  \n",
        "nombre=str(input(\"ingresa tu nombre \\n\"))\n",
        "if nombre == 'Ana' or nombre == 'Juan' or nombre == 'Pedro':\n",
        "  print('')\n",
        "else: \n",
        "  print('Hola ', nombre)"
      ],
      "metadata": {
        "colab": {
          "base_uri": "https://localhost:8080/"
        },
        "id": "8zEWK4VtNlGg",
        "outputId": "c79223ae-4cd8-4b87-daf7-f6c0d5ec5ce5"
      },
      "execution_count": null,
      "outputs": [
        {
          "output_type": "stream",
          "name": "stdout",
          "text": [
            "ingresa tu nombre \n",
            "Yamilet\n",
            "Hola  Yamilet\n"
          ]
        }
      ]
    },
    {
      "cell_type": "code",
      "execution_count": null,
      "metadata": {
        "colab": {
          "base_uri": "https://localhost:8080/"
        },
        "id": "xo3YTv6P8_fr",
        "outputId": "8d5c3457-fa2d-4c91-d1c2-8614b7802b46"
      },
      "outputs": [
        {
          "output_type": "stream",
          "name": "stdout",
          "text": [
            "['pepino', 'sandía', 'mango', 'fresa', 'manzana']\n"
          ]
        }
      ],
      "source": [
        "#ejercicio 2\n",
        "lalista=[\"manzana\", \"fresa\", \"mango\", \"sandía\", \"pepino\"]\n",
        "lalista2= lalista[::-1]\n",
        "print(lalista2)"
      ]
    },
    {
      "cell_type": "code",
      "source": [
        "#ejercicio 3\n",
        "saludo= [\"*********\", \"* Hola  *\", \"* a     *\", \"* todos *\", \"* esto  *\", \"* es    *\", \"* un    *\", \"* marco *\", \"*********\"]\n",
        "for x in saludo:\n",
        "  print(x)"
      ],
      "metadata": {
        "colab": {
          "base_uri": "https://localhost:8080/"
        },
        "id": "kbFR7sEBBzPN",
        "outputId": "897cc57b-96e1-4a1e-ea96-8169f4bbec41"
      },
      "execution_count": null,
      "outputs": [
        {
          "output_type": "stream",
          "name": "stdout",
          "text": [
            "*********\n",
            "* Hola  *\n",
            "* a     *\n",
            "* todos *\n",
            "* esto  *\n",
            "* es    *\n",
            "* un    *\n",
            "* marco *\n",
            "*********\n"
          ]
        }
      ]
    }
  ]
}